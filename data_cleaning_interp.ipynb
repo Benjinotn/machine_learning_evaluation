{
 "cells": [
  {
   "cell_type": "markdown",
   "id": "dd658863",
   "metadata": {},
   "source": [
    "# Data Cleaning!\n"
   ]
  },
  {
   "cell_type": "code",
   "execution_count": 76,
   "id": "2006003e",
   "metadata": {},
   "outputs": [],
   "source": [
    "import janitor\n",
    "import pandas as pd\n",
    "import ydata_profiling as yp\n",
    "from sklearn.preprocessing import OneHotEncoder\n",
    "from sklearn.model_selection import train_test_split\n",
    "from sklearn.preprocessing import StandardScaler"
   ]
  },
  {
   "cell_type": "code",
   "execution_count": 77,
   "id": "4c389280",
   "metadata": {},
   "outputs": [],
   "source": [
    "ames_df = pd.read_csv(\"data/AmesHousing.csv\")\n",
    "no_csv = pd.read_csv(\"data/na_list.csv\")"
   ]
  },
  {
   "cell_type": "markdown",
   "id": "a40be9ef",
   "metadata": {},
   "source": [
    "### 1.) Replace meaningful Nans with pair in na_list.csv"
   ]
  },
  {
   "cell_type": "code",
   "execution_count": 78,
   "id": "20f702f5",
   "metadata": {},
   "outputs": [],
   "source": [
    "replace_dict = dict(zip(no_csv[\"feature\"], no_csv[\"NA meaning\"]))\n",
    "\n",
    "ames_df = ames_df.fillna(value=replace_dict, axis=0)"
   ]
  },
  {
   "cell_type": "markdown",
   "id": "0c894fa3",
   "metadata": {},
   "source": [
    "### 2.) Correct column types"
   ]
  },
  {
   "cell_type": "code",
   "execution_count": 79,
   "id": "a3dadcc5",
   "metadata": {},
   "outputs": [],
   "source": [
    "ames_df = pd.concat(\n",
    "    [\n",
    "        ames_df.select_dtypes(None, [\"object\"]),\n",
    "        ames_df.select_dtypes([\"object\"]).apply(pd.Series.astype, dtype=\"category\"),\n",
    "    ],\n",
    "    axis=1,\n",
    ").reindex(ames_df.columns, axis=1)"
   ]
  },
  {
   "cell_type": "markdown",
   "id": "7af283e7",
   "metadata": {},
   "source": [
    "### 3.) Remove scewed, uninformative columns"
   ]
  },
  {
   "cell_type": "code",
   "execution_count": 80,
   "id": "10559179",
   "metadata": {},
   "outputs": [],
   "source": [
    "ames_df = ames_df.clean_names(remove_special=True)\n",
    "\n",
    "column_to_remove_list = [\n",
    "    \"alley\",\n",
    "    \"land_slope\",\n",
    "    \"condition_2\",\n",
    "    \"roof_matl\",\n",
    "    \"mas_vnr_type\",\n",
    "    \"mas_vnr_type\",\n",
    "    \"mas_vnr_area\",\n",
    "    \"bsmtfin_type_2\",\n",
    "    \"heating\",\n",
    "    \"low_qual_fin_sf\",\n",
    "    \"enclosed_porch\",\n",
    "    \"3ssn_porch\",\n",
    "    \"screen_porch\",\n",
    "    \"pool_area\",\n",
    "    \"misc_feature\",\n",
    "    \"misc_val\",\n",
    "    \"mo_sold\",\n",
    "    \"yr_sold\",\n",
    "    \"sale_type\",\n",
    "    \"sale_condition\",\n",
    "    \"order\",\n",
    "]\n",
    "\n",
    "ames_df = ames_df.drop(columns=column_to_remove_list).reset_index(drop=True)"
   ]
  },
  {
   "cell_type": "markdown",
   "id": "4c668622",
   "metadata": {},
   "source": [
    "### 4.) bad categories get cleaned"
   ]
  },
  {
   "cell_type": "code",
   "execution_count": 81,
   "id": "9ad910f8",
   "metadata": {},
   "outputs": [],
   "source": [
    "ames_df[\"ms_zoning\"] = ames_df[\"ms_zoning\"].apply(lambda x: x.split(\" \")[0])"
   ]
  },
  {
   "cell_type": "markdown",
   "id": "93521e4b",
   "metadata": {},
   "source": [
    "#### BEFORE INTERPOLATION Test train split (including validation sets)\n"
   ]
  },
  {
   "cell_type": "code",
   "execution_count": 82,
   "id": "a9cb9ebd",
   "metadata": {},
   "outputs": [],
   "source": [
    "# split into X and y dataframes\n",
    "X = ames_df.drop(\"saleprice\", axis=1)\n",
    "y = ames_df[[\"pid\", \"saleprice\"]]"
   ]
  },
  {
   "cell_type": "code",
   "execution_count": 83,
   "id": "a7e249c8",
   "metadata": {},
   "outputs": [],
   "source": [
    "test_train_with_val = True\n",
    "if test_train_with_val:\n",
    "    X_train, X_temp, y_train, y_temp = train_test_split(\n",
    "        X, y, test_size=0.8, random_state=42\n",
    "    )\n",
    "\n",
    "    # split temp into 75/25 split\n",
    "    X_val1, X_temp, y_val1, y_temp = train_test_split(\n",
    "        X_temp, y_temp, test_size=0.75, random_state=42\n",
    "    )\n",
    "\n",
    "    # next split is 2/3 (60 percent of dataset left)\n",
    "    X_val2, X_temp, y_val2, y_temp = train_test_split(\n",
    "        X_temp, y_temp, test_size=(2 / 3), random_state=42\n",
    "    )\n",
    "\n",
    "    # last split is 50/50 (40 percent of dataset left)\n",
    "    X_val3, X_val4, y_val3, y_val4 = train_test_split(\n",
    "        X_temp, y_temp, test_size=0.5, random_state=42\n",
    "    )\n",
    "\n",
    "    # create dictionaries to loop through processes\n",
    "\n",
    "    X_data_dict = {\n",
    "        \"train\": X_train,\n",
    "        \"val1\": X_val1,\n",
    "        \"val2\": X_val2,\n",
    "        \"val3\": X_val3,\n",
    "        \"val4\": X_val4,\n",
    "    }\n",
    "\n",
    "    y_data_dict = {\n",
    "        \"train\": y_train,\n",
    "        \"val1\": y_val1,\n",
    "        \"val2\": y_val2,\n",
    "        \"val3\": y_val3,\n",
    "        \"val4\": y_val4,\n",
    "    }"
   ]
  },
  {
   "cell_type": "code",
   "execution_count": 84,
   "id": "b8c9461a",
   "metadata": {},
   "outputs": [],
   "source": [
    "normal_test_train = False\n",
    "if normal_test_train:\n",
    "    # 80/20 test/train split\n",
    "    X_train, X_test, y_train, y_test = train_test_split(\n",
    "        X, y, test_size=0.8, random_state=42\n",
    "    )\n",
    "    X_data_dict = {\"train\": X_train, \"test\": X_test}\n",
    "    y_data_dict = {\"train\": y_train, \"test\": y_test}"
   ]
  },
  {
   "cell_type": "code",
   "execution_count": 85,
   "id": "9f2aa702",
   "metadata": {},
   "outputs": [],
   "source": [
    "# no test train split\n",
    "no_test_train = False\n",
    "if no_test_train:\n",
    "    X_data_dict = {\"X\": X}\n",
    "    y_data_dict = {\"y\": y}"
   ]
  },
  {
   "cell_type": "markdown",
   "id": "35fabd31",
   "metadata": {},
   "source": [
    "### 5.) Interpolate columns"
   ]
  },
  {
   "cell_type": "code",
   "execution_count": 86,
   "id": "ba0ee9b7",
   "metadata": {},
   "outputs": [],
   "source": [
    "def interpolation_steps(df):\n",
    "    df[\"lot_frontage\"] = df[\"lot_frontage\"].fillna(df[\"lot_frontage\"].mean())\n",
    "\n",
    "    return df"
   ]
  },
  {
   "cell_type": "markdown",
   "id": "c4800547",
   "metadata": {},
   "source": [
    "### 6.) One hot encoding categorical data"
   ]
  },
  {
   "cell_type": "code",
   "execution_count": 87,
   "id": "c5f013af",
   "metadata": {},
   "outputs": [],
   "source": [
    "def one_hot_encode(df):\n",
    "    \"\"\"\n",
    "    One-hot encodes the categorical columns of a DataFrame.\n",
    "\n",
    "    Args:\n",
    "        df (pd.DataFrame): The DataFrame to be one-hot encoded.\n",
    "\n",
    "    Returns:\n",
    "        pd.DataFrame: The one-hot encoded DataFrame.\n",
    "    \"\"\"\n",
    "    # Identify categorical columns\n",
    "    categorical_cols = df.select_dtypes(include=[\"object\", \"category\"]).columns\n",
    "    non_categorical_cols = df.select_dtypes(exclude=[\"object\", \"category\"]).columns\n",
    "\n",
    "    # One-hot encode categorical columns\n",
    "    encoder = OneHotEncoder()\n",
    "\n",
    "    encoded_array = encoder.fit_transform(df[categorical_cols]).toarray()\n",
    "\n",
    "    encoded_df = pd.DataFrame(\n",
    "        encoded_array, columns=encoder.get_feature_names_out(categorical_cols)\n",
    "    )\n",
    "\n",
    "    result_df = pd.concat(\n",
    "        [df[non_categorical_cols].reset_index(drop=True), encoded_df], axis=1\n",
    "    )\n",
    "\n",
    "    return result_df"
   ]
  },
  {
   "cell_type": "markdown",
   "id": "dd98dfdc",
   "metadata": {},
   "source": [
    "### Standardise non_categorical columns"
   ]
  },
  {
   "cell_type": "code",
   "execution_count": 88,
   "id": "6625b04c",
   "metadata": {},
   "outputs": [],
   "source": [
    "def standardise(df, non_categorical_cols):\n",
    "    \"\"\"\n",
    "    One-hot encodes the categorical columns of a DataFrame.\n",
    "\n",
    "    Args:\n",
    "        df (pd.DataFrame): The DataFrame to be one-hot encoded.\n",
    "\n",
    "    Returns:\n",
    "        pd.DataFrame: The one-hot encoded DataFrame.\n",
    "    \"\"\"\n",
    "\n",
    "    # Standardise categorical columns\n",
    "    encoder = StandardScaler()\n",
    "\n",
    "    encoded_array = encoder.fit_transform(df[non_categorical_cols])\n",
    "\n",
    "    encoded_df = pd.DataFrame(\n",
    "        encoded_array, columns=encoder.get_feature_names_out(non_categorical_cols)\n",
    "    )\n",
    "\n",
    "    all_cols_set = set(df.columns)\n",
    "    non_categorical_cols_set = set(non_categorical_cols)\n",
    "    categorical_cols = all_cols_set - non_categorical_cols_set\n",
    "\n",
    "    result_df = pd.concat(\n",
    "        [\n",
    "            df[list(categorical_cols)].reset_index(drop=True),\n",
    "            encoded_df,\n",
    "        ],\n",
    "        axis=1,\n",
    "    )\n",
    "\n",
    "    # reorder columns to have unique_id at the front\n",
    "    non_pid_cols = [col for col in result_df.columns if col != \"pid\"]\n",
    "    result_df = result_df[[\"pid\"] + non_pid_cols]\n",
    "    return result_df"
   ]
  },
  {
   "cell_type": "markdown",
   "id": "2fedd6d2",
   "metadata": {},
   "source": [
    "### Split and Save X, y data points"
   ]
  },
  {
   "cell_type": "code",
   "execution_count": 89,
   "id": "9a144562",
   "metadata": {},
   "outputs": [],
   "source": [
    "# find a list of non categorical columns\n",
    "non_categorical_cols = ames_df.select_dtypes(exclude=[\"object\", \"category\"]).columns\n",
    "non_categorical_cols = non_categorical_cols.drop([\"pid\", \"saleprice\"])\n",
    "\n",
    "# apply one hot encoding to all datasets\n",
    "for key, value in X_data_dict.items():\n",
    "    X_data_dict[key] = interpolation_steps(X_data_dict[key])\n",
    "    X_data_dict[key] = one_hot_encode(X_data_dict[key])\n",
    "    X_data_dict[key] = standardise(X_data_dict[key], non_categorical_cols)\n",
    "    y_data_dict[key] = standardise(y_data_dict[key], [\"saleprice\"])\n",
    "\n",
    "for key, value in X_data_dict.items():\n",
    "\n",
    "    X_data_dict[key].to_csv(\"data/X_\" + key)\n",
    "\n",
    "    y_data_dict[key].to_csv(\"data/y_\" + key)"
   ]
  },
  {
   "cell_type": "code",
   "execution_count": 90,
   "id": "36b554e7",
   "metadata": {},
   "outputs": [
    {
     "data": {
      "text/html": [
       "<div>\n",
       "<style scoped>\n",
       "    .dataframe tbody tr th:only-of-type {\n",
       "        vertical-align: middle;\n",
       "    }\n",
       "\n",
       "    .dataframe tbody tr th {\n",
       "        vertical-align: top;\n",
       "    }\n",
       "\n",
       "    .dataframe thead th {\n",
       "        text-align: right;\n",
       "    }\n",
       "</style>\n",
       "<table border=\"1\" class=\"dataframe\">\n",
       "  <thead>\n",
       "    <tr style=\"text-align: right;\">\n",
       "      <th></th>\n",
       "      <th>pid</th>\n",
       "      <th>saleprice</th>\n",
       "    </tr>\n",
       "  </thead>\n",
       "  <tbody>\n",
       "    <tr>\n",
       "      <th>0</th>\n",
       "      <td>902100110</td>\n",
       "      <td>-0.119661</td>\n",
       "    </tr>\n",
       "    <tr>\n",
       "      <th>1</th>\n",
       "      <td>909282020</td>\n",
       "      <td>1.118675</td>\n",
       "    </tr>\n",
       "    <tr>\n",
       "      <th>2</th>\n",
       "      <td>908152070</td>\n",
       "      <td>-0.407010</td>\n",
       "    </tr>\n",
       "    <tr>\n",
       "      <th>3</th>\n",
       "      <td>923228310</td>\n",
       "      <td>-1.460622</td>\n",
       "    </tr>\n",
       "    <tr>\n",
       "      <th>4</th>\n",
       "      <td>533352170</td>\n",
       "      <td>-0.646467</td>\n",
       "    </tr>\n",
       "    <tr>\n",
       "      <th>...</th>\n",
       "      <td>...</td>\n",
       "      <td>...</td>\n",
       "    </tr>\n",
       "    <tr>\n",
       "      <th>581</th>\n",
       "      <td>535354130</td>\n",
       "      <td>-0.694359</td>\n",
       "    </tr>\n",
       "    <tr>\n",
       "      <th>582</th>\n",
       "      <td>902305080</td>\n",
       "      <td>-0.660150</td>\n",
       "    </tr>\n",
       "    <tr>\n",
       "      <th>583</th>\n",
       "      <td>909178160</td>\n",
       "      <td>-0.523318</td>\n",
       "    </tr>\n",
       "    <tr>\n",
       "      <th>584</th>\n",
       "      <td>535180070</td>\n",
       "      <td>-0.592418</td>\n",
       "    </tr>\n",
       "    <tr>\n",
       "      <th>585</th>\n",
       "      <td>527108090</td>\n",
       "      <td>1.327002</td>\n",
       "    </tr>\n",
       "  </tbody>\n",
       "</table>\n",
       "<p>586 rows × 2 columns</p>\n",
       "</div>"
      ],
      "text/plain": [
       "           pid  saleprice\n",
       "0    902100110  -0.119661\n",
       "1    909282020   1.118675\n",
       "2    908152070  -0.407010\n",
       "3    923228310  -1.460622\n",
       "4    533352170  -0.646467\n",
       "..         ...        ...\n",
       "581  535354130  -0.694359\n",
       "582  902305080  -0.660150\n",
       "583  909178160  -0.523318\n",
       "584  535180070  -0.592418\n",
       "585  527108090   1.327002\n",
       "\n",
       "[586 rows x 2 columns]"
      ]
     },
     "execution_count": 90,
     "metadata": {},
     "output_type": "execute_result"
    }
   ],
   "source": [
    "value = y_data_dict[\"val1\"]\n",
    "\n",
    "standardise(value, [\"saleprice\"])"
   ]
  },
  {
   "cell_type": "markdown",
   "id": "e9d91c49",
   "metadata": {},
   "source": [
    "# Create a massive report"
   ]
  },
  {
   "cell_type": "code",
   "execution_count": 91,
   "id": "30dbefc9",
   "metadata": {},
   "outputs": [
    {
     "data": {
      "text/plain": [
       "'profile = yp.ProfileReport(ames_df)\\nprofile.to_notebook_iframe()\\nprofile.to_file(\"eda_report.html\")'"
      ]
     },
     "execution_count": 91,
     "metadata": {},
     "output_type": "execute_result"
    }
   ],
   "source": [
    "\"\"\"profile = yp.ProfileReport(ames_df)\n",
    "profile.to_notebook_iframe()\n",
    "profile.to_file(\"eda_report.html\")\"\"\""
   ]
  }
 ],
 "metadata": {
  "kernelspec": {
   "display_name": "grad_ml",
   "language": "python",
   "name": "python3"
  },
  "language_info": {
   "codemirror_mode": {
    "name": "ipython",
    "version": 3
   },
   "file_extension": ".py",
   "mimetype": "text/x-python",
   "name": "python",
   "nbconvert_exporter": "python",
   "pygments_lexer": "ipython3",
   "version": "3.12.8"
  }
 },
 "nbformat": 4,
 "nbformat_minor": 5
}
